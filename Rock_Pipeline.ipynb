{
  "nbformat": 4,
  "nbformat_minor": 0,
  "metadata": {
    "colab": {
      "provenance": [],
      "collapsed_sections": [
        "lzTfSvn6Reou",
        "7hJz31u-JbZl",
        "6zwkxoqfRg_G"
      ],
      "machine_shape": "hm"
    },
    "kernelspec": {
      "name": "python3",
      "display_name": "Python 3"
    },
    "language_info": {
      "name": "python"
    },
    "accelerator": "GPU",
    "gpuClass": "premium"
  },
  "cells": [
    {
      "cell_type": "code",
      "source": [
        "from google.colab import drive\n",
        "drive.mount('/content/drive')"
      ],
      "metadata": {
        "colab": {
          "base_uri": "https://localhost:8080/"
        },
        "id": "AqcfwWifRveY",
        "outputId": "2d417dfb-7e0e-4c6b-8329-6d26c52d0999"
      },
      "execution_count": 1,
      "outputs": [
        {
          "output_type": "stream",
          "name": "stdout",
          "text": [
            "Mounted at /content/drive\n"
          ]
        }
      ]
    },
    {
      "cell_type": "markdown",
      "source": [
        "# Video Frame Extraction"
      ],
      "metadata": {
        "id": "lzTfSvn6Reou"
      }
    },
    {
      "cell_type": "code",
      "source": [
        "%ls /content/drive/MyDrive/clm/"
      ],
      "metadata": {
        "id": "WrFZ8Ys9RrhP"
      },
      "execution_count": null,
      "outputs": []
    },
    {
      "cell_type": "code",
      "source": [
        "import os\n",
        "import cv2\n",
        "\n",
        "# folder containing the videos\n",
        "folder = \"/content/drive/MyDrive/clm/\"\n",
        "\n",
        "# subfolder to save the frames\n",
        "subfolder = \"frames\"\n",
        "\n",
        "# create the subfolder if it doesn't exist\n",
        "if not os.path.exists(os.path.join(folder, subfolder)):\n",
        "    os.makedirs(os.path.join(folder, subfolder))\n",
        "\n",
        "# loop through all the files in the folder\n",
        "for filename in os.listdir(folder):\n",
        "    # check if file is a video\n",
        "    if filename.endswith(\".mov\") or filename.endswith(\".MOV\") or filename.endswith(\".MP4\"):\n",
        "        # get the video name\n",
        "        video_name = os.path.splitext(filename)[0]\n",
        "        # create a video capture object\n",
        "        cap = cv2.VideoCapture(os.path.join(folder, filename))\n",
        "        # get the fps of the video\n",
        "        fps = int(cap.get(cv2.CAP_PROP_FPS))\n",
        "        frame_counter = 0\n",
        "        # loop through the video frames\n",
        "        while True:\n",
        "            ret, frame = cap.read()\n",
        "            # check if we have reached the end of the video\n",
        "            if not ret:\n",
        "                break\n",
        "            # check if we need to extract the frame\n",
        "            if cap.get(cv2.CAP_PROP_POS_FRAMES) % (fps * 5) == 0:\n",
        "                # save the frame to a file\n",
        "                cv2.imwrite(os.path.join(folder, subfolder, \"{}_frame_{}.jpg\".format(video_name, frame_counter)), frame)\n",
        "                frame_counter+=1\n",
        "        # release the video capture object\n",
        "        cap.release()"
      ],
      "metadata": {
        "id": "g5PCUYu0R0fJ"
      },
      "execution_count": null,
      "outputs": []
    },
    {
      "cell_type": "code",
      "source": [
        "import os\n",
        "import cv2\n",
        "\n",
        "# folder containing the images\n",
        "folder = \"/content/drive/MyDrive/clm/frames/\"\n",
        "\n",
        "# loop through all the files in the folder\n",
        "for filename in os.listdir(folder):\n",
        "    # check if file is an image\n",
        "    if filename.endswith(\".jpg\") or filename.endswith(\".png\"):\n",
        "        # read the image\n",
        "        img = cv2.imread(os.path.join(folder, filename))\n",
        "        # flip the image vertically\n",
        "        img_flip = cv2.flip(img, 0)\n",
        "        # save the flipped image\n",
        "        cv2.imwrite(os.path.join(folder, filename), img_flip)"
      ],
      "metadata": {
        "id": "7v2UJbXgSNXw"
      },
      "execution_count": null,
      "outputs": []
    },
    {
      "cell_type": "markdown",
      "metadata": {
        "id": "7hJz31u-JbZl"
      },
      "source": [
        "# YOLO Label Conversion"
      ]
    },
    {
      "cell_type": "code",
      "execution_count": null,
      "metadata": {
        "colab": {
          "base_uri": "https://localhost:8080/"
        },
        "id": "MJEz4zUlUH7H",
        "outputId": "ab969190-3f7b-461b-c8d3-4dadd13b2896"
      },
      "outputs": [
        {
          "output_type": "stream",
          "name": "stdout",
          "text": [
            "Drive already mounted at /content/drive; to attempt to forcibly remount, call drive.mount(\"/content/drive\", force_remount=True).\n"
          ]
        }
      ],
      "source": [
        "from google.colab import drive\n",
        "drive.mount('/content/drive')"
      ]
    },
    {
      "cell_type": "code",
      "execution_count": null,
      "metadata": {
        "colab": {
          "base_uri": "https://localhost:8080/"
        },
        "id": "5KyqswQGUWfU",
        "outputId": "709a0d46-d4e2-46d5-90dc-e465091ad3eb"
      },
      "outputs": [
        {
          "output_type": "stream",
          "name": "stdout",
          "text": [
            "/content/drive/MyDrive/clm/clm_v1\n"
          ]
        }
      ],
      "source": [
        "%cd /content/drive/MyDrive/clm/clm_v1"
      ]
    },
    {
      "cell_type": "code",
      "execution_count": null,
      "metadata": {
        "id": "ljn-OGkgUlSk"
      },
      "outputs": [],
      "source": [
        "# Function to get the data from XML Annotation\n",
        "def extract_info_from_xml(xml_file):\n",
        "    root = ET.parse(xml_file).getroot()\n",
        "    \n",
        "    # Initialise the info dict \n",
        "    info_dict = {}\n",
        "    info_dict['bboxes'] = []\n",
        "\n",
        "    # Parse the XML Tree\n",
        "    for elem in root:\n",
        "        # Get the file name \n",
        "        if elem.tag == \"filename\":\n",
        "            info_dict['filename'] = elem.text\n",
        "            \n",
        "        # Get the image size\n",
        "        elif elem.tag == \"size\":\n",
        "            #image_size = [640, 360, 3]\n",
        "            image_size = []\n",
        "            for subelem in elem:\n",
        "               image_size.append(int(subelem.text))\n",
        "            \n",
        "            info_dict['image_size'] = tuple(image_size)\n",
        "        \n",
        "        # Get details of the bounding box \n",
        "        elif elem.tag == \"object\":\n",
        "            bbox = {}\n",
        "            for subelem in elem:\n",
        "                if subelem.tag == \"name\":\n",
        "                    bbox[\"class\"] = subelem.text\n",
        "                    \n",
        "                elif subelem.tag == \"bndbox\":\n",
        "                    for subsubelem in subelem:\n",
        "                        bbox[subsubelem.tag] = int(subsubelem.text)            \n",
        "            info_dict['bboxes'].append(bbox)\n",
        "    \n",
        "    return info_dict"
      ]
    },
    {
      "cell_type": "code",
      "execution_count": null,
      "metadata": {
        "id": "85zT95U1IeRZ"
      },
      "outputs": [],
      "source": [
        "import math\n",
        "# Dictionary that maps class names to IDs\n",
        "class_name_to_id_mapping = {'person':0, 'hold':1,\n",
        "                           }\n",
        "\n",
        "# Convert the info dict to the required yolo format and write it to disk\n",
        "def convert_to_yolov5(info_dict):\n",
        "    print_buffer = []\n",
        "    \n",
        "    # For each bounding box\n",
        "    for b in info_dict[\"bboxes\"]:\n",
        "        try:\n",
        "          class_id = class_name_to_id_mapping[b[\"class\"]]\n",
        "        except KeyError:\n",
        "          print(\"Invalid Class. Must be one from \", class_name_to_id_mapping.keys())\n",
        "        # Transform the bbox co-ordinates as per the format required by YOLO v5\n",
        "        b_center_x = (b[\"xmin\"] + b[\"xmax\"]) / 2 \n",
        "        b_center_y = (b[\"ymin\"] + b[\"ymax\"]) / 2\n",
        "        b_width    = (b[\"xmax\"] - b[\"xmin\"])\n",
        "        b_height   = (b[\"ymax\"] - b[\"ymin\"])\n",
        "        \n",
        "        # Normalise the co-ordinates by the dimensions of the image\n",
        "        image_w, image_h, image_c = info_dict[\"image_size\"]  \n",
        "        b_center_x /= image_w \n",
        "        b_center_y /= image_h \n",
        "        b_width    /= image_w \n",
        "        b_height   /= image_h \n",
        "        \n",
        "        #Write the bbox details to the file \n",
        "        print_buffer.append(\"{} {:.3f} {:.3f} {:.3f} {:.3f}\".format(class_id, b_center_x, b_center_y, b_width, b_height))\n",
        "\n",
        "    # Name of the file which we have to save \n",
        "    save_file_name = os.path.join(\"labels\", info_dict[\"filename\"].replace(\"jpg\", \"txt\"))\n",
        "    \n",
        "    # Save the annotation to disk\n",
        "    print(\"\\n\".join(print_buffer), file= open(save_file_name, \"w\"))"
      ]
    },
    {
      "cell_type": "code",
      "execution_count": null,
      "metadata": {
        "id": "NvoLotquUtpD"
      },
      "outputs": [],
      "source": [
        "import os\n",
        "import tqdm\n",
        "import xml.etree.ElementTree as ET\n",
        "\n",
        "# Get the annotations\n",
        "labels = [os.path.join('labels', x) for x in os.listdir('labels') if x[-3:] == \"xml\"]\n",
        "labels.sort()\n",
        "\n",
        "# Convert and save the annotations\n",
        "for ann in labels:\n",
        "    info_dict = extract_info_from_xml(ann)\n",
        "    convert_to_yolov5(info_dict)\n",
        "labels = [os.path.join('labels', x) for x in os.listdir('labels') if x[-3:] == \"txt\"]"
      ]
    },
    {
      "cell_type": "code",
      "execution_count": null,
      "metadata": {
        "colab": {
          "base_uri": "https://localhost:8080/",
          "height": 269
        },
        "id": "7AJuJpo8Uw_g",
        "outputId": "6e65768c-e5a0-497a-f711-9c4174ce1acc"
      },
      "outputs": [
        {
          "output_type": "display_data",
          "data": {
            "text/plain": [
              "<Figure size 432x288 with 1 Axes>"
            ],
            "image/png": "[encoded data removed]"
          },
          "metadata": {
            "needs_background": "light"
          }
        }
      ],
      "source": [
        "import random\n",
        "import matplotlib.pyplot as plt\n",
        "from PIL import Image\n",
        "from PIL import ImageDraw\n",
        "import cv2\n",
        "import numpy as np\n",
        "random.seed(1)\n",
        "\n",
        "class_id_to_name_mapping = dict(zip(class_name_to_id_mapping.values(), class_name_to_id_mapping.keys()))\n",
        "\n",
        "def plot_bounding_box(image, annotation_list):\n",
        "    annotations = np.array(annotation_list)\n",
        "    w, h = image.size\n",
        "    \n",
        "    plotted_image = ImageDraw.Draw(image)\n",
        "\n",
        "    transformed_annotations = np.copy(annotations)\n",
        "    transformed_annotations[:,[1,3]] = annotations[:,[1,3]] * w\n",
        "    transformed_annotations[:,[2,4]] = annotations[:,[2,4]] * h \n",
        "    \n",
        "    transformed_annotations[:,1] = transformed_annotations[:,1] - (transformed_annotations[:,3] / 2)\n",
        "    transformed_annotations[:,2] = transformed_annotations[:,2] - (transformed_annotations[:,4] / 2)\n",
        "    transformed_annotations[:,3] = transformed_annotations[:,1] + transformed_annotations[:,3]\n",
        "    transformed_annotations[:,4] = transformed_annotations[:,2] + transformed_annotations[:,4]\n",
        "    \n",
        "    for ann in transformed_annotations:\n",
        "        obj_cls, x0, y0, x1, y1 = ann\n",
        "        plotted_image.rectangle(((x0,y0), (x1,y1)))\n",
        "        \n",
        "        plotted_image.text((x0, y0 - 10), class_id_to_name_mapping[(int(obj_cls))])\n",
        "    \n",
        "    plt.imshow(np.array(image))\n",
        "    plt.show()\n",
        "\n",
        "# Get any random annotation file \n",
        "annotation_file = random.choice(labels)\n",
        "with open(annotation_file, \"r\") as file:\n",
        "    annotation_list = file.read().split(\"\\n\")[:-1]\n",
        "    annotation_list = [x.split(\" \") for x in annotation_list]\n",
        "    annotation_list = [[float(y) for y in x ] for x in annotation_list]\n",
        "\n",
        "#Get the corresponding image file\n",
        "image_file = annotation_file.replace(\"labels\", \"images\").replace(\"txt\", \"jpg\")\n",
        "assert os.path.exists(image_file)\n",
        "\n",
        "#Load the image\n",
        "image = Image.open(image_file)\n",
        "\n",
        "#Plot the Bounding Box\n",
        "plot_bounding_box(image, annotation_list)"
      ]
    },
    {
      "cell_type": "code",
      "execution_count": null,
      "metadata": {
        "id": "kidB96_PU11p"
      },
      "outputs": [],
      "source": [
        "from sklearn.model_selection import train_test_split# Read images and annotations\n",
        "images = [os.path.join('images', x) for x in os.listdir('images')]\n",
        "labels = [os.path.join('labels', x) for x in os.listdir('labels') if x[-3:] == \"txt\"]\n",
        "\n",
        "images.sort()\n",
        "labels.sort()\n",
        "\n",
        "# Split the dataset into train-valid-test splits \n",
        "train_images, val_images, train_labels, val_labels = train_test_split(images, labels, test_size = 0.2, random_state = 1)\n",
        "val_images, test_images, val_labels, test_labels = train_test_split(val_images, val_labels, test_size = 0.3, random_state = 1)"
      ]
    },
    {
      "cell_type": "code",
      "execution_count": null,
      "metadata": {
        "id": "pOynvK9zU42m"
      },
      "outputs": [],
      "source": [
        "!mkdir images/train images/val images/test labels/train labels/val labels/test"
      ]
    },
    {
      "cell_type": "code",
      "execution_count": null,
      "metadata": {
        "id": "itAqSPwrU7O6"
      },
      "outputs": [],
      "source": [
        "#Utility function to move images \n",
        "import shutil\n",
        "def move_files_to_folder(list_of_files, destination_folder):\n",
        "    for f in list_of_files:\n",
        "        try:\n",
        "            shutil.move(f, destination_folder)\n",
        "        except:\n",
        "            print(f)\n",
        "            assert False\n",
        "\n",
        "# Move the splits into their folders\n",
        "move_files_to_folder(train_images, 'images/train')\n",
        "move_files_to_folder(val_images, 'images/val/')\n",
        "move_files_to_folder(test_images, 'images/test/')\n",
        "move_files_to_folder(train_labels, 'labels/train/')\n",
        "move_files_to_folder(val_labels, 'labels/val/')\n",
        "move_files_to_folder(test_labels, 'labels/test/')\n",
        "\n",
        "#RENAME THE ANNOTATIONS DIR TO LABELS!!!"
      ]
    },
    {
      "cell_type": "markdown",
      "source": [
        "# YOLOv8 Training and Inference"
      ],
      "metadata": {
        "id": "6zwkxoqfRg_G"
      }
    },
    {
      "cell_type": "code",
      "source": [
        "%cd /content/drive/MyDrive/"
      ],
      "metadata": {
        "id": "EuzmrYQqSpdH"
      },
      "execution_count": null,
      "outputs": []
    },
    {
      "cell_type": "code",
      "source": [
        "!pip install ultralytics\n",
        "!pip install hydra\n",
        "#!git clone https://github.com/ultralytics/ultralytics.git\n",
        "\n",
        "%cd /content/drive/MyDrive/ultralytics\n",
        "!pip install -e ultralytics\n",
        "\n",
        "from IPython import display\n",
        "display.clear_output()\n",
        "!yolo checks"
      ],
      "metadata": {
        "id": "IYw0QnQiS5Gs"
      },
      "execution_count": null,
      "outputs": []
    },
    {
      "cell_type": "code",
      "source": [
        "!yolo task=detect mode=train model=yolov8m.pt data='/content/drive/MyDrive/clm/clm.yaml' epochs=100 imgsz=640"
      ],
      "metadata": {
        "id": "WO4F93IIS7HP"
      },
      "execution_count": null,
      "outputs": []
    },
    {
      "cell_type": "code",
      "source": [
        "!yolo task=detect mode=predict save=True model=/content/drive/MyDrive/ultralytics/runs/detect/train4/weights/best.pt conf=0.5 source=/content/drive/MyDrive/clm/clm_v1/images/test/ line_thickness=2"
      ],
      "metadata": {
        "id": "N4UHvDm7TSEl"
      },
      "execution_count": null,
      "outputs": []
    },
    {
      "cell_type": "code",
      "source": [
        "!yolo task=detect mode=predict save=True model=/content/drive/MyDrive/ultralytics/runs/detect/train4/weights/best.pt hide_labels=True hide_conf=True iou=0.6 conf=0.7 source=/content/drive/MyDrive/clm/vids/ line_thickness=1"
      ],
      "metadata": {
        "id": "KiDUHH9jTViW"
      },
      "execution_count": null,
      "outputs": []
    },
    {
      "cell_type": "markdown",
      "source": [
        "# Output Conversion"
      ],
      "metadata": {
        "id": "f7DKYzUBRhdn"
      }
    },
    {
      "cell_type": "code",
      "source": [
        "!pip install imageio==2.4.1"
      ],
      "metadata": {
        "id": "tbmY4uSHSZXI"
      },
      "execution_count": null,
      "outputs": []
    },
    {
      "cell_type": "code",
      "source": [
        "import subprocess\n",
        "import os\n",
        "\n",
        "folder = \"/content/drive/MyDrive/ultralytics/runs/detect/predict8/\"\n",
        "\n",
        "for filename in os.listdir(folder):\n",
        "    if filename.endswith(\".mp4\"):\n",
        "        original_file = os.path.join(folder, filename)\n",
        "        re_encoded_file = os.path.join(folder, \"re_encoded_\" + filename)\n",
        "        subprocess.run(['ffmpeg', '-i', original_file, '-c:v', 'libx264', '-crf', '20', '-c:a', 'aac', '-b:a', '192k', re_encoded_file])"
      ],
      "metadata": {
        "id": "9rpgtNZBTiLf"
      },
      "execution_count": null,
      "outputs": []
    },
    {
      "cell_type": "code",
      "source": [
        "import re\n",
        "import subprocess\n",
        "original_audio = '/content/drive/MyDrive/clm/lofi.mp3'\n",
        "re_encoded_audio = '/content/drive/MyDrive/clm/lofi.aac'\n",
        "subprocess.run(['ffmpeg', '-i', original_audio, '-c:a', 'aac', '-b:a', '192k', '-strict', '-2', re_encoded_audio])"
      ],
      "metadata": {
        "id": "6dToaABkWNrO"
      },
      "execution_count": null,
      "outputs": []
    },
    {
      "cell_type": "code",
      "source": [
        "import cv2\n",
        "from moviepy.editor import *\n",
        "import os\n",
        "\n",
        "# Folder containing the videos\n",
        "folder = \"/content/drive/MyDrive/ultralytics/runs/detect/predict8/\"\n",
        "\n",
        "# Audio file to be used\n",
        "audio = AudioFileClip(\"/content/drive/MyDrive/clm/lofi.aac\")\n",
        "audio_duration = audio.duration\n",
        "i=0\n",
        "# Add audio to videos\n",
        "for filename in os.listdir(folder):\n",
        "    if filename.endswith(\".mp4\"):\n",
        "        video = VideoFileClip(os.path.join(folder, filename))\n",
        "\n",
        "        # Flip video vertically\n",
        "        video = video.fx(vfx.mirror_y)\n",
        "\n",
        "        # Get the duration of the video\n",
        "        video_duration = video.duration\n",
        "\n",
        "        # Get the starting point of the audio for the current video\n",
        "        start = audio_duration * (i / len(os.listdir(folder)))\n",
        "        i = i + 1\n",
        "\n",
        "        # Get the audio clip for the current video\n",
        "        audio_clip = audio.subclip(start, start + video_duration)\n",
        "\n",
        "        # Add audio to the video\n",
        "        video = video.set_audio(audio_clip)\n",
        "\n",
        "        # Save the modified video\n",
        "        video.write_videofile(\"/content/drive/MyDrive/clm/final_out_2/\" + filename)"
      ],
      "metadata": {
        "id": "klrGBr57TizP"
      },
      "execution_count": null,
      "outputs": []
    }
  ]
}